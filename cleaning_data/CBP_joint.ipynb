{
  "nbformat": 4,
  "nbformat_minor": 0,
  "metadata": {
    "colab": {
      "provenance": [],
      "authorship_tag": "ABX9TyM2elIqft+CLkFyDNtCraKh",
      "include_colab_link": true
    },
    "kernelspec": {
      "name": "python3",
      "display_name": "Python 3"
    },
    "language_info": {
      "name": "python"
    }
  },
  "cells": [
    {
      "cell_type": "markdown",
      "metadata": {
        "id": "view-in-github",
        "colab_type": "text"
      },
      "source": [
        "<a href=\"https://colab.research.google.com/github/ReidelVichot/FIS_DATA/blob/main/cleaning_data/CBP_joint.ipynb\" target=\"_parent\"><img src=\"https://colab.research.google.com/assets/colab-badge.svg\" alt=\"Open In Colab\"/></a>"
      ]
    },
    {
      "cell_type": "code",
      "execution_count": null,
      "metadata": {
        "colab": {
          "base_uri": "https://localhost:8080/"
        },
        "id": "-LNUJrwYTFap",
        "outputId": "d6ebaeef-421d-4096-e792-2ac3fc3ba5ec"
      },
      "outputs": [
        {
          "output_type": "stream",
          "name": "stdout",
          "text": [
            "Drive already mounted at /content/drive; to attempt to forcibly remount, call drive.mount(\"/content/drive\", force_remount=True).\n"
          ]
        }
      ],
      "source": [
        "from google.colab import drive\n",
        "drive.mount('/content/drive')"
      ]
    },
    {
      "cell_type": "code",
      "source": [
        "import pandas as pd\n",
        "\n",
        "# -- files downloaded from the census ftp database for New Castle County, Delaware\n",
        "fname12 = \"/content/drive/MyDrive/CensusCBPdata/CBP2012.CB1200CBP-2023-10-24T155357.csv\"\n",
        "fname13 = \"/content/drive/MyDrive/CensusCBPdata/CBP2013.CB1300CBP-2023-10-24T155354.csv\"\n",
        "fname14 = \"/content/drive/MyDrive/CensusCBPdata/CBP2014.CB1400CBP-2023-10-24T155352.csv\"\n",
        "fname15 = \"/content/drive/MyDrive/CensusCBPdata/CBP2015.CB1500CBP-2023-10-24T155350.csv\"\n",
        "fname16 = \"/content/drive/MyDrive/CensusCBPdata/CBP2016.CB1600CBP-2023-10-24T155347.csv\"\n",
        "fname17 = \"/content/drive/MyDrive/CensusCBPdata/CBP2017.CB1700CBP-2023-10-24T155344.csv\"\n",
        "fname18 = \"/content/drive/MyDrive/CensusCBPdata/CBP2018.CB1800CBP-2023-10-24T155339.csv\"\n",
        "fname19 = \"/content/drive/MyDrive/CensusCBPdata/CBP2019.CB1900CBP-2023-10-24T155336.csv\"\n",
        "fname20 = \"/content/drive/MyDrive/CensusCBPdata/CBP2020.CB2000CBP-2023-10-24T155330.csv\"\n",
        "fname21 = \"/content/drive/MyDrive/CensusCBPdata/CBP2021.CB2100CBP-2023-10-24T155323.csv\""
      ],
      "metadata": {
        "id": "0V4WmAw6TOlc"
      },
      "execution_count": null,
      "outputs": []
    },
    {
      "cell_type": "code",
      "source": [
        "cbp12 = pd.read_csv(fname12)\n",
        "cbp13 = pd.read_csv(fname13)\n",
        "cbp14 = pd.read_csv(fname14)\n",
        "cbp15 = pd.read_csv(fname15)\n",
        "cbp16 = pd.read_csv(fname16)\n",
        "cbp17 = pd.read_csv(fname17)\n",
        "cbp18 = pd.read_csv(fname18)\n",
        "cbp19 = pd.read_csv(fname19)\n",
        "cbp20 = pd.read_csv(fname20)\n",
        "cbp21 = pd.read_csv(fname21)"
      ],
      "metadata": {
        "id": "x00h_hrbVt4F"
      },
      "execution_count": null,
      "outputs": []
    },
    {
      "cell_type": "code",
      "source": [
        "cbp_array = [cbp12, cbp13, cbp14, cbp15, cbp16, cbp17, cbp18, cbp19, cbp20, cbp21]"
      ],
      "metadata": {
        "id": "-GeREMTHXm0M"
      },
      "execution_count": null,
      "outputs": []
    },
    {
      "cell_type": "code",
      "source": [
        "len(cbp_array)"
      ],
      "metadata": {
        "colab": {
          "base_uri": "https://localhost:8080/"
        },
        "id": "nb40y-f1YH2c",
        "outputId": "9910a0e6-e3ca-42c6-ccf4-b800ce9c12b3"
      },
      "execution_count": null,
      "outputs": [
        {
          "output_type": "execute_result",
          "data": {
            "text/plain": [
              "10"
            ]
          },
          "metadata": {},
          "execution_count": 85
        }
      ]
    },
    {
      "cell_type": "code",
      "source": [
        "year = 11\n",
        "iteration = 0\n",
        "for i in cbp_array:\n",
        "  iteration = year + 1\n",
        "  if (cbp12.columns == i.columns).sum() != 10 :\n",
        "    print (f\"20{iteration} has discrepancy in the columns\")\n",
        "  year = year + 1\n"
      ],
      "metadata": {
        "colab": {
          "base_uri": "https://localhost:8080/"
        },
        "id": "HIzL0iWVYKGm",
        "outputId": "5ab2c2d2-2367-4401-baa7-b49ff6ab062b"
      },
      "execution_count": null,
      "outputs": [
        {
          "output_type": "stream",
          "name": "stdout",
          "text": [
            "2017 has discrepancy in the columns\n",
            "2018 has discrepancy in the columns\n",
            "2019 has discrepancy in the columns\n",
            "2020 has discrepancy in the columns\n",
            "2021 has discrepancy in the columns\n"
          ]
        }
      ]
    },
    {
      "cell_type": "markdown",
      "source": [
        "The discrepancies are due to the updata of NAICS from 2012 to 2017. NAICS codes for logistics and warehousing remained unchanged."
      ],
      "metadata": {
        "id": "Gc--ysMDd69E"
      }
    },
    {
      "cell_type": "code",
      "source": [
        "previous_columns = cbp12.columns"
      ],
      "metadata": {
        "id": "iAxvMGDOjdP6"
      },
      "execution_count": null,
      "outputs": []
    },
    {
      "cell_type": "code",
      "source": [
        "## previous_columns Index(['Geographic Area Name (NAME)', '2012 NAICS code (NAICS2012)',\n",
        "#      'Meaning of NAICS code (NAICS2012_LABEL)',\n",
        "#      'Meaning of Legal form of organization code (LFO_LABEL)',\n",
        "#      'Meaning of Employment size of establishments (EMPSZES_LABEL)',\n",
        "#      'Year (YEAR)', 'Number of establishments (ESTAB)',\n",
        "#      'Paid employees for pay period including March 12 (number) (EMP)',\n",
        "#      'First-quarter payroll ($1,000) (PAYQTR1)',\n",
        "#      'Annual payroll ($1,000) (PAYANN)'],\n",
        "#     dtype='object')"
      ],
      "metadata": {
        "colab": {
          "base_uri": "https://localhost:8080/"
        },
        "id": "vwplbqX1pa-t",
        "outputId": "9367ef7d-dd27-474c-90a4-4ca57233c7c4"
      },
      "execution_count": null,
      "outputs": [
        {
          "output_type": "execute_result",
          "data": {
            "text/plain": [
              "Index(['Geographic Area Name (NAME)', '2012 NAICS code (NAICS2012)',\n",
              "       'Meaning of NAICS code (NAICS2012_LABEL)',\n",
              "       'Meaning of Legal form of organization code (LFO_LABEL)',\n",
              "       'Meaning of Employment size of establishments (EMPSZES_LABEL)',\n",
              "       'Year (YEAR)', 'Number of establishments (ESTAB)',\n",
              "       'Paid employees for pay period including March 12 (number) (EMP)',\n",
              "       'First-quarter payroll ($1,000) (PAYQTR1)',\n",
              "       'Annual payroll ($1,000) (PAYANN)'],\n",
              "      dtype='object')"
            ]
          },
          "metadata": {},
          "execution_count": 90
        }
      ]
    },
    {
      "cell_type": "code",
      "source": [
        "# -- Rename the columns\n",
        "cbp12.columns = ['NAME', 'NAICS', 'NAICS_LABEL', 'LFO_LABEL', 'EMPSZES_LABEL', 'YEAR', 'ESTAB', 'EMP', 'PAYQTR1', 'PAYANN']\n",
        "cbp13.columns = ['NAME', 'NAICS', 'NAICS_LABEL', 'LFO_LABEL', 'EMPSZES_LABEL', 'YEAR', 'ESTAB', 'EMP', 'PAYQTR1', 'PAYANN']\n",
        "cbp14.columns = ['NAME', 'NAICS', 'NAICS_LABEL', 'LFO_LABEL', 'EMPSZES_LABEL', 'YEAR', 'ESTAB', 'EMP', 'PAYQTR1', 'PAYANN']\n",
        "cbp15.columns = ['NAME', 'NAICS', 'NAICS_LABEL', 'LFO_LABEL', 'EMPSZES_LABEL', 'YEAR', 'ESTAB', 'EMP', 'PAYQTR1', 'PAYANN']\n",
        "cbp16.columns = ['NAME', 'NAICS', 'NAICS_LABEL', 'LFO_LABEL', 'EMPSZES_LABEL', 'YEAR', 'ESTAB', 'EMP', 'PAYQTR1', 'PAYANN']\n",
        "cbp17.columns = ['NAME', 'NAICS', 'NAICS_LABEL', 'LFO_LABEL', 'EMPSZES_LABEL', 'YEAR', 'ESTAB', 'PAYANN', 'PAYQTR1', 'EMP']\n",
        "cbp18.columns = ['NAME', 'NAICS', 'NAICS_LABEL', 'LFO_LABEL', 'EMPSZES_LABEL', 'YEAR', 'ESTAB', 'PAYANN', 'PAYQTR1', 'EMP']\n",
        "cbp19.columns = ['NAME', 'NAICS', 'NAICS_LABEL', 'LFO_LABEL', 'EMPSZES_LABEL', 'YEAR', 'ESTAB', 'PAYANN', 'PAYQTR1', 'EMP']\n",
        "cbp20.columns = ['NAME', 'NAICS', 'NAICS_LABEL', 'LFO_LABEL', 'EMPSZES_LABEL', 'YEAR', 'ESTAB', 'PAYANN', 'PAYQTR1', 'EMP']\n",
        "cbp21.columns = ['NAME', 'NAICS', 'NAICS_LABEL', 'LFO_LABEL', 'EMPSZES_LABEL', 'YEAR', 'ESTAB', 'PAYANN', 'PAYQTR1', 'EMP']"
      ],
      "metadata": {
        "id": "f0JWFJocZNlC"
      },
      "execution_count": null,
      "outputs": []
    },
    {
      "cell_type": "code",
      "source": [
        "# -- Reorganize the columns\n",
        "cbp17[['NAME', 'NAICS', 'NAICS_LABEL', 'LFO_LABEL', 'EMPSZES_LABEL', 'YEAR', 'ESTAB', 'EMP', 'PAYQTR1', 'PAYANN']]\n",
        "cbp18[['NAME', 'NAICS', 'NAICS_LABEL', 'LFO_LABEL', 'EMPSZES_LABEL', 'YEAR', 'ESTAB', 'EMP', 'PAYQTR1', 'PAYANN']]\n",
        "cbp19[['NAME', 'NAICS', 'NAICS_LABEL', 'LFO_LABEL', 'EMPSZES_LABEL', 'YEAR', 'ESTAB', 'EMP', 'PAYQTR1', 'PAYANN']]\n",
        "cbp20[['NAME', 'NAICS', 'NAICS_LABEL', 'LFO_LABEL', 'EMPSZES_LABEL', 'YEAR', 'ESTAB', 'EMP', 'PAYQTR1', 'PAYANN']]\n",
        "cbp21[['NAME', 'NAICS', 'NAICS_LABEL', 'LFO_LABEL', 'EMPSZES_LABEL', 'YEAR', 'ESTAB', 'EMP', 'PAYQTR1', 'PAYANN']];"
      ],
      "metadata": {
        "id": "bWO4M52DnNRt"
      },
      "execution_count": null,
      "outputs": []
    },
    {
      "cell_type": "code",
      "source": [
        "cbp_array = [cbp12, cbp13, cbp14, cbp15, cbp16, cbp17, cbp18, cbp19, cbp20, cbp21]\n",
        "cbp_all = pd.concat(cbp_array)"
      ],
      "metadata": {
        "id": "bUD4ActypBDZ"
      },
      "execution_count": null,
      "outputs": []
    },
    {
      "cell_type": "code",
      "source": [
        "cbp_all.NAICS.unique()"
      ],
      "metadata": {
        "colab": {
          "base_uri": "https://localhost:8080/"
        },
        "id": "DxN0m-cytYgF",
        "outputId": "baf59705-cb52-4d70-8c12-8a8849d94cd4"
      },
      "execution_count": null,
      "outputs": [
        {
          "output_type": "execute_result",
          "data": {
            "text/plain": [
              "array(['00', '11', '21', '22', '23', '31-33', '42', '44-45', '48-49',\n",
              "       '51', '52', '53', '54', '55', '56', '61', '62', '71', '72', '81',\n",
              "       '99'], dtype=object)"
            ]
          },
          "metadata": {},
          "execution_count": 96
        }
      ]
    },
    {
      "cell_type": "code",
      "source": [
        "FIS = [\"44\",\"42\",\"48\",\"72\",\"23\",\"31-33\"]"
      ],
      "metadata": {
        "id": "O-iBhl0rtZSb"
      },
      "execution_count": null,
      "outputs": []
    }
  ]
}